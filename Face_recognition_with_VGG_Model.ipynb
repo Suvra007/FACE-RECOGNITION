{
  "nbformat": 4,
  "nbformat_minor": 0,
  "metadata": {
    "colab": {
      "name": "Face recognition with VGG Model.ipynb",
      "provenance": [],
      "authorship_tag": "ABX9TyOhdCPW7kj/t254ZMHTxPqt"
    },
    "kernelspec": {
      "name": "python3",
      "display_name": "Python 3"
    }
  },
  "cells": [
    {
      "cell_type": "code",
      "metadata": {
        "id": "H4rmMM7OY4HB",
        "colab_type": "code",
        "colab": {
          "base_uri": "https://localhost:8080/",
          "height": 182
        },
        "outputId": "64a70bb2-7bf3-48d2-86f0-88f96ae1591a"
      },
      "source": [
        "from numpy import expand_dims\n",
        "import matplotlib.pyplot as plt\n",
        "from PIL import Image \n",
        "import numpy as np\n",
        "from mtcnn.mtcnn import MTCNN \n",
        "from keras_vggface.vggface import VGGFace \n",
        "from keras_vggface.utils import preprocess_input \n",
        "from keras_vggface.utils import decode_predictions\n",
        "def extract_face(filename,required_size=(224,224)):\n",
        "  pixels=plt.imread(filename)\n",
        "  detector=MTCNN()\n",
        "  results=detector.detect_faces(pixels)\n",
        "  x1,y1,width,height=results[0][\"box\"]\n",
        "  x2,y2=x1+width,y1+height\n",
        "  face=pixels[y1:y2,x1:x2]\n",
        "  image=Image.fromarray(face)\n",
        "  image=image.resize(required_size)\n",
        "  face_array=np.asarray(image)\n",
        "  return face_array\n",
        "pixels=extract_face(\"Sharon_Stone_1.jpg\")\n",
        "pixels=pixels.astype(\"float32\")\n",
        "samples=expand_dims(pixels,axis=0)\n",
        "model=VGGFace(model=\"resnet50\")\n",
        "p=model.predict(samples)\n",
        "results=decode_predictions(p)\n",
        "for result in results[0]:\n",
        "  print(\"%s%.3f%%\"%(result[0],result[1]*100))\n",
        "\n"
      ],
      "execution_count": 22,
      "outputs": [
        {
          "output_type": "stream",
          "text": [
            "Downloading data from https://github.com/rcmalli/keras-vggface/releases/download/v2.0/rcmalli_vggface_tf_resnet50.h5\n",
            "165445632/165439116 [==============================] - 4s 0us/step\n",
            "Downloading data from https://github.com/rcmalli/keras-vggface/releases/download/v2.0/rcmalli_vggface_labels_v2.npy\n",
            "1351680/1346516 [==============================] - 0s 0us/step\n",
            "b' Sharon_Stone'45.338%\n",
            "b' Emma_Atkins'14.545%\n",
            "b' Elisabeth_R\\xc3\\xb6hm'1.978%\n",
            "b' Lorraine_Kelly'1.406%\n",
            "b' Kim-Lian'1.116%\n"
          ],
          "name": "stdout"
        }
      ]
    },
    {
      "cell_type": "code",
      "metadata": {
        "id": "t-tRxC6pnJ9H",
        "colab_type": "code",
        "colab": {}
      },
      "source": [
        ""
      ],
      "execution_count": null,
      "outputs": []
    }
  ]
}