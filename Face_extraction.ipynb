{
  "nbformat": 4,
  "nbformat_minor": 0,
  "metadata": {
    "colab": {
      "name": "Face extraction.ipynb",
      "provenance": [],
      "authorship_tag": "ABX9TyMAw3SbL3CRP/OaBG6S+v14"
    },
    "kernelspec": {
      "name": "python3",
      "display_name": "Python 3"
    }
  },
  "cells": [
    {
      "cell_type": "code",
      "metadata": {
        "id": "H4rmMM7OY4HB",
        "colab_type": "code",
        "colab": {}
      },
      "source": [
        "\n",
        "import matplotlib.pyplot as plt\n",
        "from PIL import Image \n",
        "import numpy as np\n",
        "from mtcnn.mtcnn import MTCNN \n",
        "def extract_face(filename,required_size=(224,224)):\n",
        "  pixels=plt.imread(filename)\n",
        "  detector=MTCNN()\n",
        "  results=detector.detect_faces(pixels)\n",
        "  x1,y1,width,height=results[0][\"box\"]\n",
        "  x2,y2=x1+width,y1+height\n",
        "  face=pixels[y1:y2,x1:x2]\n",
        "  image=Image.fromarray(face)\n",
        "  image=image.resize(required_size)\n",
        "  face_array=np.asarray(image)\n",
        "  return face_array\n",
        "pixels=extract_face(\"Sharon_Stone_1.jpg\")\n",
        "plt.imshow(pixels)\n",
        "plt.show()\n"
      ],
      "execution_count": null,
      "outputs": []
    }
  ]
}